{
 "cells": [
  {
   "cell_type": "code",
   "execution_count": 1,
   "metadata": {},
   "outputs": [
    {
     "data": {
      "text/plain": [
       "75.0"
      ]
     },
     "execution_count": 1,
     "metadata": {},
     "output_type": "execute_result"
    }
   ],
   "source": [
    "# Lambda Functions\n",
    "\n",
    "percent = lambda marks, total_marks : (marks * 100)/total_marks\n",
    "percent(75, 100) "
   ]
  },
  {
   "cell_type": "code",
   "execution_count": 2,
   "metadata": {},
   "outputs": [
    {
     "data": {
      "text/plain": [
       "30000.0"
      ]
     },
     "execution_count": 2,
     "metadata": {},
     "output_type": "execute_result"
    }
   ],
   "source": [
    "tax_need_to_pay = lambda income : income * 0.3\n",
    "tax_need_to_pay(100000)"
   ]
  },
  {
   "cell_type": "code",
   "execution_count": 12,
   "metadata": {},
   "outputs": [
    {
     "name": "stdout",
     "output_type": "stream",
     "text": [
      "[77, 82, 92, 97, 102]\n"
     ]
    }
   ],
   "source": [
    "# Using for Loop\n",
    "marks = [75, 80, 90, 95, 100]\n",
    "updated_mark = []\n",
    "\n",
    "for mark in marks:\n",
    "    new_mark = mark + 2\n",
    "    updated_mark.append(new_mark)\n",
    "print(updated_mark)\n",
    "\n"
   ]
  },
  {
   "cell_type": "code",
   "execution_count": 15,
   "metadata": {},
   "outputs": [
    {
     "name": "stdout",
     "output_type": "stream",
     "text": [
      "[14, 36, 58, 80, 92]\n"
     ]
    }
   ],
   "source": [
    "# Using List Comprehension\n",
    "marks = [12, 34, 56, 78, 90]\n",
    "updated_marks = [mark+2 for mark in marks] \n",
    "print(updated_marks)"
   ]
  },
  {
   "cell_type": "code",
   "execution_count": 18,
   "metadata": {},
   "outputs": [
    {
     "name": "stdout",
     "output_type": "stream",
     "text": [
      "names of the 10 usersare ['sanjai', 'kannan', 'steve', '4', '5', '6', '7', '8', '9', '0']\n"
     ]
    }
   ],
   "source": [
    "# Take a names of the User as Input using the List Comprehension\n",
    "names = [input(\"Enter the name of the  10 users\") for index in range(10)]\n",
    "print(f\"names of the 10 usersare {names}\")"
   ]
  },
  {
   "cell_type": "code",
   "execution_count": 24,
   "metadata": {},
   "outputs": [
    {
     "name": "stdout",
     "output_type": "stream",
     "text": [
      "[14, 36, 58, 80, 92]\n"
     ]
    }
   ],
   "source": [
    "marks = [12, 34, 56, 78, 90]\n",
    "updated_marks =  []\n",
    "for mark in marks:\n",
    "   new_mark = mark+2\n",
    "   updated_marks.append(new_mark) \n",
    "print(updated_marks)"
   ]
  },
  {
   "cell_type": "code",
   "execution_count": 28,
   "metadata": {},
   "outputs": [
    {
     "name": "stdout",
     "output_type": "stream",
     "text": [
      "[34, 56, 78, 90]\n"
     ]
    }
   ],
   "source": [
    "marks = [12, 34, 56, 78, 90]\n",
    "updated_marks = []\n",
    "\n",
    "for mark in marks:\n",
    "    if mark>30:\n",
    "       updated_marks.append(mark)\n",
    "print(updated_marks)\n"
   ]
  },
  {
   "cell_type": "code",
   "execution_count": 34,
   "metadata": {},
   "outputs": [
    {
     "data": {
      "text/plain": [
       "[34, 56, 78, 90]"
      ]
     },
     "execution_count": 34,
     "metadata": {},
     "output_type": "execute_result"
    }
   ],
   "source": [
    "marks = [12, 34, 56, 78, 90]\n",
    "\n",
    "# Filter Function\n",
    "filtered_data = list(filter(lambda mark : mark>30, marks))\n",
    "filtered_data"
   ]
  },
  {
   "cell_type": "code",
   "execution_count": 32,
   "metadata": {},
   "outputs": [
    {
     "data": {
      "text/plain": [
       "[14, 36, 58, 80, 92]"
      ]
     },
     "execution_count": 32,
     "metadata": {},
     "output_type": "execute_result"
    }
   ],
   "source": [
    "marks = [12, 34, 56, 78, 90]\n",
    "\n",
    "# Map Function\n",
    "mapped_data = list(map(lambda mark : mark+2, marks))\n",
    "mapped_data"
   ]
  },
  {
   "cell_type": "code",
   "execution_count": 36,
   "metadata": {},
   "outputs": [
    {
     "name": "stdout",
     "output_type": "stream",
     "text": [
      "2, 2, 2, 2\n"
     ]
    }
   ],
   "source": [
    "class human :\n",
    "    legs = 2   # static variables\n",
    "    hands = 2  # static variables\n",
    "    eyes = 2   # static variables\n",
    "    ears = 2   # static variables\n",
    "h1 = human()\n",
    "h2 = human()\n",
    "\n",
    "print(f\"{h1.legs}, {h1.hands}, {h1.eyes}, {h1.ears}\")"
   ]
  },
  {
   "cell_type": "code",
   "execution_count": null,
   "metadata": {},
   "outputs": [],
   "source": []
  },
  {
   "cell_type": "code",
   "execution_count": null,
   "metadata": {},
   "outputs": [],
   "source": []
  },
  {
   "cell_type": "code",
   "execution_count": null,
   "metadata": {},
   "outputs": [],
   "source": []
  },
  {
   "cell_type": "code",
   "execution_count": null,
   "metadata": {},
   "outputs": [],
   "source": []
  }
 ],
 "metadata": {
  "kernelspec": {
   "display_name": "Python 3",
   "language": "python",
   "name": "python3"
  },
  "language_info": {
   "codemirror_mode": {
    "name": "ipython",
    "version": 3
   },
   "file_extension": ".py",
   "mimetype": "text/x-python",
   "name": "python",
   "nbconvert_exporter": "python",
   "pygments_lexer": "ipython3",
   "version": "3.13.1"
  }
 },
 "nbformat": 4,
 "nbformat_minor": 2
}
