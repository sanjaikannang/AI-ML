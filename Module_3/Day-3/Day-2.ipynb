{
 "cells": [
  {
   "cell_type": "code",
   "execution_count": 9,
   "metadata": {},
   "outputs": [
    {
     "name": "stdout",
     "output_type": "stream",
     "text": [
      "120\n"
     ]
    }
   ],
   "source": [
    "# For Loop \n",
    "\n",
    "n = int(input('enter the number...'))\n",
    "fact = 1\n",
    "for index in range(1, n+1):\n",
    "    fact = fact*index\n",
    "print(fact) "
   ]
  },
  {
   "cell_type": "code",
   "execution_count": null,
   "metadata": {},
   "outputs": [
    {
     "name": "stdout",
     "output_type": "stream",
     "text": [
      "120\n"
     ]
    }
   ],
   "source": [
    "# While Loop\n",
    "\n",
    "n = int(input('enter the number...'))\n",
    "fact = 1\n",
    "while n > 1 :\n",
    "    fact = fact*n\n",
    "    n = n-1\n",
    "print(fact)"
   ]
  },
  {
   "cell_type": "code",
   "execution_count": null,
   "metadata": {},
   "outputs": [
    {
     "name": "stdout",
     "output_type": "stream",
     "text": [
      "10\n"
     ]
    }
   ],
   "source": [
    "# While Loop\n",
    "\n",
    "n = int(input('enter the number...'))\n",
    "sum = 0\n",
    "index = 1\n",
    "while index <= n:    \n",
    "    sum = sum+index\n",
    "    index = index+1\n",
    "print(sum)"
   ]
  },
  {
   "cell_type": "code",
   "execution_count": 23,
   "metadata": {},
   "outputs": [
    {
     "name": "stdout",
     "output_type": "stream",
     "text": [
      "20000.0\n"
     ]
    },
    {
     "data": {
      "text/plain": [
       "20000.0"
      ]
     },
     "execution_count": 23,
     "metadata": {},
     "output_type": "execute_result"
    }
   ],
   "source": [
    "# Functions \n",
    "\n",
    "def tax_calculation(income):\n",
    "    if income < 50000:\n",
    "        tax = 0\n",
    "    elif income < 100000:\n",
    "        tax = 0.1*income\n",
    "    else:\n",
    "        tax = 0.2*income\n",
    "        print(tax)\n",
    "    return tax\n",
    "tax_calculation(100000)"
   ]
  },
  {
   "cell_type": "code",
   "execution_count": 26,
   "metadata": {},
   "outputs": [
    {
     "data": {
      "text/plain": [
       "120"
      ]
     },
     "execution_count": 26,
     "metadata": {},
     "output_type": "execute_result"
    }
   ],
   "source": [
    "def factorial(number):\n",
    "    fact = 1  \n",
    "    for index in range(1, number+1):\n",
    "        fact = fact*index\n",
    "    return fact\n",
    "\n",
    "factorial(5)  "
   ]
  }
 ],
 "metadata": {
  "kernelspec": {
   "display_name": "Python 3",
   "language": "python",
   "name": "python3"
  },
  "language_info": {
   "codemirror_mode": {
    "name": "ipython",
    "version": 3
   },
   "file_extension": ".py",
   "mimetype": "text/x-python",
   "name": "python",
   "nbconvert_exporter": "python",
   "pygments_lexer": "ipython3",
   "version": "3.13.1"
  }
 },
 "nbformat": 4,
 "nbformat_minor": 2
}
