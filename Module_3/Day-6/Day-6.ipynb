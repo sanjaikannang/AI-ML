{
 "cells": [
  {
   "cell_type": "code",
   "execution_count": 1,
   "metadata": {},
   "outputs": [
    {
     "name": "stdout",
     "output_type": "stream",
     "text": [
      "Human has 2 legs\n"
     ]
    }
   ],
   "source": [
    "# Classs and Objects\n",
    "\n",
    "class human:\n",
    "    legs = 2\n",
    "    hands = 2\n",
    "    eyes = 2\n",
    "\n",
    "h1 = human()\n",
    "\n",
    "print(f\"Human has {h1.legs} legs\")"
   ]
  },
  {
   "cell_type": "code",
   "execution_count": 3,
   "metadata": {},
   "outputs": [
    {
     "name": "stdout",
     "output_type": "stream",
     "text": [
      "human has 2 legs, 2 hands and 2 eyes\n",
      "human has 2 legs, 2 hands and 2 eyes\n",
      "human has 2 legs, 2 hands and 2 eyes, sanjai and 25 years old\n",
      "human has 2 legs, 2 hands and 2 eyes, kannan and 22 years old\n"
     ]
    }
   ],
   "source": [
    "class human:\n",
    "    legs = 2\n",
    "    hands = 2\n",
    "    eyes = 2\n",
    "    def __init__ (self,name, age):\n",
    "        self.name = name\n",
    "        self.age = age\n",
    "\n",
    "h1 = human(\"sanjai\", 25)\n",
    "h2 = human(\"kannan\", 22)\n",
    "\n",
    "print(f\"human has {h1.legs} legs, {h1.hands} hands and {h1.eyes} eyes\")\n",
    "print(f\"human has {h2.legs} legs, {h2.hands} hands and {h2.eyes} eyes\")\n",
    "\n",
    "print(f\"human has {h1.legs} legs, {h1.hands} hands and {h1.eyes} eyes, {h1.name} and {h1.age} years old\")\n",
    "print(f\"human has {h2.legs} legs, {h2.hands} hands and {h2.eyes} eyes, {h2.name} and {h2.age} years old\")\n"
   ]
  },
  {
   "cell_type": "code",
   "execution_count": 1,
   "metadata": {},
   "outputs": [
    {
     "name": "stdout",
     "output_type": "stream",
     "text": [
      "I am from Guvi, my name is sanjai, my email is sanjai@gmai.com, my course is Python and my age is 25\n",
      "I am from Guvi, my name is Kannan, my email is kannan@gmail.com, my course is MERN and my age is 22\n",
      "I am from Guvi, my name is Gokul, my email is gokul@gmail.com, my course is MEAN and my age is 24\n"
     ]
    }
   ],
   "source": [
    "class students:\n",
    "    institute = \"Guvi\"\n",
    "    def __init__(self, name, email, course, age):\n",
    "        self.name = name\n",
    "        self.email = email\n",
    "        self.course = course\n",
    "        self.age = age\n",
    "h1 = students(\"sanjai\", \"sanjai@gmai.com\", \"Python\", 25)\n",
    "h2 = students(\"Kannan\", \"kannan@gmail.com\", \"MERN\", 22)\n",
    "h3 = students(\"Gokul\", \"gokul@gmail.com\", \"MEAN\", 24)\n",
    "\n",
    "print(f\"I am from {h1.institute}, my name is {h1.name}, my email is {h1.email}, my course is {h1.course} and my age is {h1.age}\")\n",
    "print(f\"I am from {h2.institute}, my name is {h2.name}, my email is {h2.email}, my course is {h2.course} and my age is {h2.age}\")\n",
    "print(f\"I am from {h3.institute}, my name is {h3.name}, my email is {h3.email}, my course is {h3.course} and my age is {h3.age}\")"
   ]
  },
  {
   "cell_type": "code",
   "execution_count": null,
   "metadata": {},
   "outputs": [],
   "source": []
  }
 ],
 "metadata": {
  "kernelspec": {
   "display_name": "Python 3",
   "language": "python",
   "name": "python3"
  },
  "language_info": {
   "codemirror_mode": {
    "name": "ipython",
    "version": 3
   },
   "file_extension": ".py",
   "mimetype": "text/x-python",
   "name": "python",
   "nbconvert_exporter": "python",
   "pygments_lexer": "ipython3",
   "version": "3.13.1"
  }
 },
 "nbformat": 4,
 "nbformat_minor": 2
}
