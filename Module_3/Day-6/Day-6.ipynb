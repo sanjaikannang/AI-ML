{
 "cells": [
  {
   "cell_type": "code",
   "execution_count": 1,
   "metadata": {},
   "outputs": [
    {
     "name": "stdout",
     "output_type": "stream",
     "text": [
      "Human has 2 legs\n"
     ]
    }
   ],
   "source": [
    "# Classs and Objects\n",
    "\n",
    "class human:\n",
    "    legs = 2\n",
    "    hands = 2\n",
    "    eyes = 2\n",
    "\n",
    "h1 = human()\n",
    "\n",
    "print(f\"Human has {h1.legs} legs\")"
   ]
  },
  {
   "cell_type": "code",
   "execution_count": 3,
   "metadata": {},
   "outputs": [
    {
     "name": "stdout",
     "output_type": "stream",
     "text": [
      "human has 2 legs, 2 hands and 2 eyes\n",
      "human has 2 legs, 2 hands and 2 eyes\n",
      "human has 2 legs, 2 hands and 2 eyes, sanjai and 25 years old\n",
      "human has 2 legs, 2 hands and 2 eyes, kannan and 22 years old\n"
     ]
    }
   ],
   "source": [
    "class human:\n",
    "    legs = 2\n",
    "    hands = 2\n",
    "    eyes = 2\n",
    "    def __init__ (self,name, age):\n",
    "        self.name = name\n",
    "        self.age = age\n",
    "\n",
    "h1 = human(\"sanjai\", 25)\n",
    "h2 = human(\"kannan\", 22)\n",
    "\n",
    "print(f\"human has {h1.legs} legs, {h1.hands} hands and {h1.eyes} eyes\")\n",
    "print(f\"human has {h2.legs} legs, {h2.hands} hands and {h2.eyes} eyes\")\n",
    "\n",
    "print(f\"human has {h1.legs} legs, {h1.hands} hands and {h1.eyes} eyes, {h1.name} and {h1.age} years old\")\n",
    "print(f\"human has {h2.legs} legs, {h2.hands} hands and {h2.eyes} eyes, {h2.name} and {h2.age} years old\")\n"
   ]
  },
  {
   "cell_type": "code",
   "execution_count": null,
   "metadata": {},
   "outputs": [],
   "source": []
  },
  {
   "cell_type": "code",
   "execution_count": null,
   "metadata": {},
   "outputs": [],
   "source": []
  }
 ],
 "metadata": {
  "kernelspec": {
   "display_name": "Python 3",
   "language": "python",
   "name": "python3"
  },
  "language_info": {
   "codemirror_mode": {
    "name": "ipython",
    "version": 3
   },
   "file_extension": ".py",
   "mimetype": "text/x-python",
   "name": "python",
   "nbconvert_exporter": "python",
   "pygments_lexer": "ipython3",
   "version": "3.13.1"
  }
 },
 "nbformat": 4,
 "nbformat_minor": 2
}
