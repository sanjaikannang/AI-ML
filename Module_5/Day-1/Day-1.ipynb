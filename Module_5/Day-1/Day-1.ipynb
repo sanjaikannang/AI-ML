{
 "cells": [
  {
   "cell_type": "code",
   "execution_count": 1,
   "metadata": {},
   "outputs": [
    {
     "name": "stdout",
     "output_type": "stream",
     "text": [
      "Collecting mysql\n",
      "  Downloading mysql-0.0.3-py3-none-any.whl.metadata (746 bytes)\n",
      "Collecting mysqlclient (from mysql)\n",
      "  Downloading mysqlclient-2.2.7-cp313-cp313-win_amd64.whl.metadata (4.8 kB)\n",
      "Downloading mysql-0.0.3-py3-none-any.whl (1.2 kB)\n",
      "Downloading mysqlclient-2.2.7-cp313-cp313-win_amd64.whl (208 kB)\n",
      "Installing collected packages: mysqlclient, mysql\n",
      "Successfully installed mysql-0.0.3 mysqlclient-2.2.7\n",
      "Note: you may need to restart the kernel to use updated packages.\n"
     ]
    },
    {
     "name": "stderr",
     "output_type": "stream",
     "text": [
      "\n",
      "[notice] A new release of pip is available: 24.3.1 -> 25.0\n",
      "[notice] To update, run: python.exe -m pip install --upgrade pip\n"
     ]
    }
   ],
   "source": [
    "%pip install mysql"
   ]
  },
  {
   "cell_type": "code",
   "execution_count": 2,
   "metadata": {},
   "outputs": [
    {
     "name": "stdout",
     "output_type": "stream",
     "text": [
      "Collecting mysql-connector-python\n",
      "  Downloading mysql_connector_python-9.2.0-cp313-cp313-win_amd64.whl.metadata (6.2 kB)\n",
      "Downloading mysql_connector_python-9.2.0-cp313-cp313-win_amd64.whl (16.1 MB)\n",
      "   ---------------------------------------- 0.0/16.1 MB ? eta -:--:--\n",
      "   - -------------------------------------- 0.8/16.1 MB 4.2 MB/s eta 0:00:04\n",
      "   --- ------------------------------------ 1.6/16.1 MB 4.3 MB/s eta 0:00:04\n",
      "   ----- ---------------------------------- 2.4/16.1 MB 4.1 MB/s eta 0:00:04\n",
      "   ------- -------------------------------- 2.9/16.1 MB 3.7 MB/s eta 0:00:04\n",
      "   --------- ------------------------------ 3.7/16.1 MB 3.5 MB/s eta 0:00:04\n",
      "   ----------- ---------------------------- 4.5/16.1 MB 3.7 MB/s eta 0:00:04\n",
      "   ------------- -------------------------- 5.5/16.1 MB 3.8 MB/s eta 0:00:03\n",
      "   ---------------- ----------------------- 6.6/16.1 MB 3.9 MB/s eta 0:00:03\n",
      "   ------------------ --------------------- 7.6/16.1 MB 4.0 MB/s eta 0:00:03\n",
      "   -------------------- ------------------- 8.4/16.1 MB 4.1 MB/s eta 0:00:02\n",
      "   ----------------------- ---------------- 9.4/16.1 MB 4.2 MB/s eta 0:00:02\n",
      "   -------------------------- ------------- 10.5/16.1 MB 4.2 MB/s eta 0:00:02\n",
      "   ---------------------------- ----------- 11.3/16.1 MB 4.2 MB/s eta 0:00:02\n",
      "   ----------------------------- ---------- 12.1/16.1 MB 4.2 MB/s eta 0:00:01\n",
      "   -------------------------------- ------- 13.1/16.1 MB 4.2 MB/s eta 0:00:01\n",
      "   ----------------------------------- ---- 14.2/16.1 MB 4.2 MB/s eta 0:00:01\n",
      "   ------------------------------------- -- 14.9/16.1 MB 4.2 MB/s eta 0:00:01\n",
      "   ---------------------------------------  16.0/16.1 MB 4.3 MB/s eta 0:00:01\n",
      "   ---------------------------------------- 16.1/16.1 MB 4.2 MB/s eta 0:00:00\n",
      "Installing collected packages: mysql-connector-python\n",
      "Successfully installed mysql-connector-python-9.2.0\n",
      "Note: you may need to restart the kernel to use updated packages.\n"
     ]
    },
    {
     "name": "stderr",
     "output_type": "stream",
     "text": [
      "\n",
      "[notice] A new release of pip is available: 24.3.1 -> 25.0\n",
      "[notice] To update, run: python.exe -m pip install --upgrade pip\n"
     ]
    }
   ],
   "source": [
    "%pip install mysql-connector-python"
   ]
  },
  {
   "cell_type": "code",
   "execution_count": 4,
   "metadata": {},
   "outputs": [],
   "source": [
    "import mysql.connector\n",
    "\n",
    "db = mysql.connector.connect(\n",
    "    host = \"localhost\",\n",
    "    user = \"root\",\n",
    "    password = \"Sanju@182002\"\n",
    ")\n",
    "\n",
    "myCurser = db.cursor()"
   ]
  },
  {
   "cell_type": "code",
   "execution_count": 5,
   "metadata": {},
   "outputs": [
    {
     "data": {
      "text/plain": [
       "<mysql.connector.cursor_cext.CMySQLCursor at 0x19affd70ad0>"
      ]
     },
     "execution_count": 5,
     "metadata": {},
     "output_type": "execute_result"
    }
   ],
   "source": [
    "myCurser.execute(\"create database mydatabase\")\n",
    "myCurser"
   ]
  },
  {
   "cell_type": "code",
   "execution_count": null,
   "metadata": {},
   "outputs": [],
   "source": []
  },
  {
   "cell_type": "code",
   "execution_count": null,
   "metadata": {},
   "outputs": [],
   "source": []
  },
  {
   "cell_type": "code",
   "execution_count": null,
   "metadata": {},
   "outputs": [],
   "source": []
  }
 ],
 "metadata": {
  "kernelspec": {
   "display_name": "Python 3",
   "language": "python",
   "name": "python3"
  },
  "language_info": {
   "codemirror_mode": {
    "name": "ipython",
    "version": 3
   },
   "file_extension": ".py",
   "mimetype": "text/x-python",
   "name": "python",
   "nbconvert_exporter": "python",
   "pygments_lexer": "ipython3",
   "version": "3.13.1"
  }
 },
 "nbformat": 4,
 "nbformat_minor": 2
}
