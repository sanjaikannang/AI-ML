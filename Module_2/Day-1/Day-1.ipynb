{
 "cells": [
  {
   "cell_type": "code",
   "execution_count": 1,
   "metadata": {},
   "outputs": [
    {
     "name": "stdout",
     "output_type": "stream",
     "text": [
      "my name is sanjai!\n"
     ]
    }
   ],
   "source": [
    "print(\"my name is sanjai!\")"
   ]
  },
  {
   "cell_type": "code",
   "execution_count": 2,
   "metadata": {},
   "outputs": [
    {
     "name": "stdout",
     "output_type": "stream",
     "text": [
      "hi my name is sanjai\n"
     ]
    }
   ],
   "source": [
    "print(\"hi \" + \"my name is sanjai\")"
   ]
  },
  {
   "cell_type": "code",
   "execution_count": 3,
   "metadata": {},
   "outputs": [
    {
     "name": "stdout",
     "output_type": "stream",
     "text": [
      "i am sanjai kannan G from chennai, i am an software developer\n"
     ]
    }
   ],
   "source": [
    "my_introduction = \"i am sanjai kannan G from chennai, i am an software developer \\n\"\n",
    "print(my_introduction)"
   ]
  },
  {
   "cell_type": "code",
   "execution_count": 4,
   "metadata": {},
   "outputs": [
    {
     "name": "stdout",
     "output_type": "stream",
     "text": [
      "i am sanjai kannan G from chennai, i am an software developeri am sanjai kannan G from chennai, i am an software developeri am sanjai kannan G from chennai, i am an software developeri am sanjai kannan G from chennai, i am an software developeri am sanjai kannan G from chennai, i am an software developer\n"
     ]
    }
   ],
   "source": [
    "print(my_introduction*5)"
   ]
  },
  {
   "cell_type": "code",
   "execution_count": 7,
   "metadata": {},
   "outputs": [
    {
     "name": "stdout",
     "output_type": "stream",
     "text": [
      "i am sanjai kannan G from chennai, i am an software developer \n",
      "i am sanjai kannan G from chennai, i am an software developer \n",
      "i am sanjai kannan G from chennai, i am an software developer \n",
      "i am sanjai kannan G from chennai, i am an software developer \n",
      "\n"
     ]
    }
   ],
   "source": [
    "my_introduction = \"i am sanjai kannan G from chennai, i am an software developer \\n\"\n",
    "print(my_introduction*4)"
   ]
  }
 ],
 "metadata": {
  "kernelspec": {
   "display_name": "Python 3",
   "language": "python",
   "name": "python3"
  },
  "language_info": {
   "codemirror_mode": {
    "name": "ipython",
    "version": 3
   },
   "file_extension": ".py",
   "mimetype": "text/x-python",
   "name": "python",
   "nbconvert_exporter": "python",
   "pygments_lexer": "ipython3",
   "version": "3.13.1"
  }
 },
 "nbformat": 4,
 "nbformat_minor": 2
}
