{
 "cells": [
  {
   "cell_type": "code",
   "execution_count": 2,
   "metadata": {},
   "outputs": [
    {
     "name": "stdout",
     "output_type": "stream",
     "text": [
      "False\n"
     ]
    }
   ],
   "source": [
    "user_name = input(\"Enter your name: \")\n",
    "print(user_name == \"Sanjai\")"
   ]
  },
  {
   "cell_type": "code",
   "execution_count": 5,
   "metadata": {},
   "outputs": [
    {
     "name": "stdout",
     "output_type": "stream",
     "text": [
      "WelcomeSanjai\n"
     ]
    }
   ],
   "source": [
    "user_name = input(\"Enter your name: \")\n",
    "if user_name == \"Sanjai\" :\n",
    "    print(f\"Welcome {user_name}\")"
   ]
  },
  {
   "cell_type": "code",
   "execution_count": 9,
   "metadata": {},
   "outputs": [
    {
     "name": "stdout",
     "output_type": "stream",
     "text": [
      "Congragulations u are graduated!...\n"
     ]
    }
   ],
   "source": [
    "user_marks = input(\"enter your marks: \")\n",
    "user_marks = float(user_marks)\n",
    "if user_marks >= 80:\n",
    "    print(f\"Congragulations u are graduated!...\")"
   ]
  },
  {
   "cell_type": "code",
   "execution_count": 10,
   "metadata": {},
   "outputs": [
    {
     "name": "stdout",
     "output_type": "stream",
     "text": [
      "Sorry u are not graduated!...\n"
     ]
    }
   ],
   "source": [
    "user_marks = input(\"enter your marks: \")\n",
    "user_marks = float(user_marks)\n",
    "if user_marks >= 80 :\n",
    "    print(f\"Congragulations u are graduated!...\")\n",
    "else:\n",
    "    print(f\"Sorry u are not graduated!...\")"
   ]
  },
  {
   "cell_type": "code",
   "execution_count": 12,
   "metadata": {},
   "outputs": [
    {
     "name": "stdout",
     "output_type": "stream",
     "text": [
      "sorry u need to get this marks to got distention 30.0\n"
     ]
    }
   ],
   "source": [
    "user_marks = input(\"enter your marks: \")\n",
    "user_marks = float(user_marks)\n",
    "if user_marks >= 80 :\n",
    "    print(f\"Congragulations u are graduated!...\")\n",
    "else :\n",
    "    remaining = 80 - user_marks\n",
    "    print(f\"sorry u need to get this marks to got distention {remaining}\")"
   ]
  },
  {
   "cell_type": "code",
   "execution_count": 17,
   "metadata": {},
   "outputs": [
    {
     "name": "stdout",
     "output_type": "stream",
     "text": [
      "you need to wait for 7.0 years to get married\n"
     ]
    }
   ],
   "source": [
    "user_age = input(\"Enter your age: \")\n",
    "user_age = float(user_age)\n",
    "if user_age >= 18:\n",
    "    print(\"You are suppose to married\")\n",
    "else:\n",
    "    remaining = 18 - user_age\n",
    "    print(f\"you need to wait for {remaining} years to get married\")"
   ]
  },
  {
   "cell_type": "code",
   "execution_count": 21,
   "metadata": {},
   "outputs": [
    {
     "name": "stdout",
     "output_type": "stream",
     "text": [
      "Your grade is Fail\n"
     ]
    }
   ],
   "source": [
    "user_mark = input(\"Enter your marks: \")\n",
    "user_mark = float(user_mark)\n",
    "if user_mark >= 80:\n",
    "    grade = \"A\"\n",
    "elif user_mark >= 70:\n",
    "    grade = \"B\"\n",
    "elif user_mark >= 60:\n",
    "    grade = \"C\"\n",
    "else:\n",
    "    grade = \"Fail\"\n",
    "print(f\"Your grade is {grade}\")"
   ]
  },
  {
   "cell_type": "code",
   "execution_count": 24,
   "metadata": {},
   "outputs": [
    {
     "name": "stdout",
     "output_type": "stream",
     "text": [
      "Your drink is Tea\n"
     ]
    }
   ],
   "source": [
    "user_degree = input(\"Enter your Outside Temperatue in degree: \")\n",
    "user_degree = float(user_degree)\n",
    "if user_degree <= 10:\n",
    "    drink = \"Hot Chocolate\"\n",
    "elif user_degree <= 20:\n",
    "    drink = \"Tea\"\n",
    "elif user_degree <= 25:\n",
    "    drink = \"Cold Coffee\"\n",
    "elif user_degree <= 30:\n",
    "    drink = \"Lemn Water\"\n",
    "else:\n",
    "    drink = \"Soda\"\n",
    "\n",
    "print(f\"Your drink is {drink}\")"
   ]
  },
  {
   "cell_type": "code",
   "execution_count": 31,
   "metadata": {},
   "outputs": [
    {
     "name": "stdout",
     "output_type": "stream",
     "text": [
      "[6, 7, 8, 9, 10, 11, 12, 13, 14, 15]\n"
     ]
    }
   ],
   "source": [
    "user_mark = [1,2,3,4,5,6,7,8,9,10]\n",
    "updated_mark = []\n",
    "\n",
    "for elem in user_mark:\n",
    "    updated_mark.append(elem + 5)\n",
    "\n",
    "print(updated_mark)\n"
   ]
  },
  {
   "cell_type": "code",
   "execution_count": 34,
   "metadata": {},
   "outputs": [
    {
     "name": "stdout",
     "output_type": "stream",
     "text": [
      "[9, 10, 11]\n"
     ]
    }
   ],
   "source": [
    "user_mark = [1,2,3,4,5,6,7,8,9,10]\n",
    "updated_mark = []\n",
    "\n",
    "for elem in user_mark:\n",
    "    if elem > 7:\n",
    "        updated_mark.append(elem + 1)\n",
    "\n",
    "print(updated_mark)"
   ]
  },
  {
   "cell_type": "code",
   "execution_count": null,
   "metadata": {},
   "outputs": [],
   "source": []
  },
  {
   "cell_type": "code",
   "execution_count": null,
   "metadata": {},
   "outputs": [],
   "source": []
  },
  {
   "cell_type": "code",
   "execution_count": null,
   "metadata": {},
   "outputs": [],
   "source": []
  },
  {
   "cell_type": "code",
   "execution_count": null,
   "metadata": {},
   "outputs": [],
   "source": []
  },
  {
   "cell_type": "code",
   "execution_count": null,
   "metadata": {},
   "outputs": [],
   "source": []
  },
  {
   "cell_type": "code",
   "execution_count": null,
   "metadata": {},
   "outputs": [],
   "source": []
  }
 ],
 "metadata": {
  "kernelspec": {
   "display_name": "Python 3",
   "language": "python",
   "name": "python3"
  },
  "language_info": {
   "codemirror_mode": {
    "name": "ipython",
    "version": 3
   },
   "file_extension": ".py",
   "mimetype": "text/x-python",
   "name": "python",
   "nbconvert_exporter": "python",
   "pygments_lexer": "ipython3",
   "version": "3.13.1"
  }
 },
 "nbformat": 4,
 "nbformat_minor": 2
}
