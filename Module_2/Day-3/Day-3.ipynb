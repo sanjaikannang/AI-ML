{
 "cells": [
  {
   "cell_type": "code",
   "execution_count": 3,
   "metadata": {},
   "outputs": [
    {
     "name": "stdout",
     "output_type": "stream",
     "text": [
      "S\n",
      "K\n"
     ]
    }
   ],
   "source": [
    "user_first_name = input(\"Enter Your First Name...\")\n",
    "user_last_name = input(\"Enter Your Last Name...\")\n",
    "\n",
    "print(user_first_name[0])\n",
    "print(user_last_name[0])"
   ]
  },
  {
   "cell_type": "code",
   "execution_count": 6,
   "metadata": {},
   "outputs": [
    {
     "name": "stdout",
     "output_type": "stream",
     "text": [
      "sanjai\n",
      "sanjai@gmail.com\n"
     ]
    }
   ],
   "source": [
    "student1 = [\"sanjai\", 22, \"sanjai@gmail.com\", 173.5, True]\n",
    "print(student1[0])\n",
    "print(student1[2])"
   ]
  },
  {
   "cell_type": "code",
   "execution_count": 9,
   "metadata": {},
   "outputs": [
    {
     "data": {
      "text/plain": [
       "float"
      ]
     },
     "execution_count": 9,
     "metadata": {},
     "output_type": "execute_result"
    }
   ],
   "source": [
    "type(student1[3])"
   ]
  },
  {
   "cell_type": "code",
   "execution_count": 14,
   "metadata": {},
   "outputs": [
    {
     "name": "stdout",
     "output_type": "stream",
     "text": [
      "['sanjai', 22, 'sanjai@gmail.com', 173.5, True, '65']\n"
     ]
    }
   ],
   "source": [
    "student2 = [\"sanjai\", 22, \"sanjai@gmail.com\", 173.5, True]\n",
    "student2.append(\"65\")\n",
    "print(student2)"
   ]
  },
  {
   "cell_type": "code",
   "execution_count": 23,
   "metadata": {},
   "outputs": [
    {
     "name": "stdout",
     "output_type": "stream",
     "text": [
      "['sanjai']\n"
     ]
    }
   ],
   "source": [
    "customer = []\n",
    "customer.append(\"sanjai\")\n",
    "print(customer)"
   ]
  },
  {
   "cell_type": "code",
   "execution_count": 22,
   "metadata": {},
   "outputs": [
    {
     "name": "stdout",
     "output_type": "stream",
     "text": [
      "['sanjai', 5000]\n"
     ]
    }
   ],
   "source": [
    "customer.append(5000)\n",
    "print(customer)"
   ]
  },
  {
   "cell_type": "code",
   "execution_count": 24,
   "metadata": {},
   "outputs": [
    {
     "name": "stdout",
     "output_type": "stream",
     "text": [
      "['sanjai', 'sanjai@gmail.com', 1234567890, 22, 10000]\n"
     ]
    }
   ],
   "source": [
    "customer.append(\"sanjai@gmail.com\")\n",
    "customer.append(1234567890)\n",
    "customer.append(22)\n",
    "customer.append(10000)\n",
    "print(customer)"
   ]
  },
  {
   "cell_type": "code",
   "execution_count": 3,
   "metadata": {},
   "outputs": [
    {
     "data": {
      "text/plain": [
       "['sanjai', 'sanjai@gmail.com', '1234567890']"
      ]
     },
     "execution_count": 3,
     "metadata": {},
     "output_type": "execute_result"
    }
   ],
   "source": [
    "customer = []\n",
    "name = input(\"enter ur name\")\n",
    "email = input(\"enter ur email\")\n",
    "mobile = input(\"enter ur mobile\")\n",
    "customer.append(name)\n",
    "customer.append(email)\n",
    "customer.append(mobile)\n",
    "customer"
   ]
  },
  {
   "cell_type": "code",
   "execution_count": 5,
   "metadata": {},
   "outputs": [
    {
     "name": "stdout",
     "output_type": "stream",
     "text": [
      "['FSD', 'MERN Stack', 'DS', 'AI & ML']\n"
     ]
    }
   ],
   "source": [
    "course1 = [\"FSD\", \"MERN Stack\"]\n",
    "course2 = [\"DS\", \"AI & ML\"]\n",
    "\n",
    "course1.extend(course2)\n",
    "print(course1)"
   ]
  },
  {
   "cell_type": "code",
   "execution_count": 6,
   "metadata": {},
   "outputs": [
    {
     "data": {
      "text/plain": [
       "[1, 2, 3, 4, 5, 6, 7, 8, 9, 10, 11, 6, 2, 7, 5, 6, 1, 8, 6, 12, 0]"
      ]
     },
     "execution_count": 6,
     "metadata": {},
     "output_type": "execute_result"
    }
   ],
   "source": [
    "marks_sec_A = [1,2,3,4,5,6,7,8,9,10,11]\n",
    "marks_sec_B = [6,2,7,5,6,1,8,6,12,0]\n",
    "\n",
    "marks_sec_A.extend(marks_sec_B)\n",
    "marks_sec_A"
   ]
  },
  {
   "cell_type": "code",
   "execution_count": null,
   "metadata": {},
   "outputs": [],
   "source": []
  }
 ],
 "metadata": {
  "kernelspec": {
   "display_name": "Python 3",
   "language": "python",
   "name": "python3"
  },
  "language_info": {
   "codemirror_mode": {
    "name": "ipython",
    "version": 3
   },
   "file_extension": ".py",
   "mimetype": "text/x-python",
   "name": "python",
   "nbconvert_exporter": "python",
   "pygments_lexer": "ipython3",
   "version": "3.13.1"
  }
 },
 "nbformat": 4,
 "nbformat_minor": 2
}
