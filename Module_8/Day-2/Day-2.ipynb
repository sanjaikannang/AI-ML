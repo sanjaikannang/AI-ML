{
 "cells": [
  {
   "cell_type": "code",
   "execution_count": 1,
   "metadata": {},
   "outputs": [
    {
     "name": "stdout",
     "output_type": "stream",
     "text": [
      "Note: you may need to restart the kernel to use updated packages.\n"
     ]
    },
    {
     "name": "stderr",
     "output_type": "stream",
     "text": [
      "ERROR: Could not find a version that satisfies the requirement skit-learn (from versions: none)\n",
      "\n",
      "[notice] A new release of pip is available: 24.3.1 -> 25.0\n",
      "[notice] To update, run: python.exe -m pip install --upgrade pip\n",
      "ERROR: No matching distribution found for skit-learn\n"
     ]
    }
   ],
   "source": [
    "%pip install skit-learn"
   ]
  },
  {
   "cell_type": "code",
   "execution_count": 2,
   "metadata": {},
   "outputs": [
    {
     "name": "stdout",
     "output_type": "stream",
     "text": [
      "Collecting scikit-learn\n",
      "  Downloading scikit_learn-1.6.1-cp313-cp313-win_amd64.whl.metadata (15 kB)\n",
      "Requirement already satisfied: numpy>=1.19.5 in c:\\users\\sanja_m20ck7b\\appdata\\local\\programs\\python\\python313\\lib\\site-packages (from scikit-learn) (2.2.2)\n",
      "Requirement already satisfied: scipy>=1.6.0 in c:\\users\\sanja_m20ck7b\\appdata\\local\\programs\\python\\python313\\lib\\site-packages (from scikit-learn) (1.15.1)\n",
      "Collecting joblib>=1.2.0 (from scikit-learn)\n",
      "  Downloading joblib-1.4.2-py3-none-any.whl.metadata (5.4 kB)\n",
      "Collecting threadpoolctl>=3.1.0 (from scikit-learn)\n",
      "  Downloading threadpoolctl-3.5.0-py3-none-any.whl.metadata (13 kB)\n",
      "Downloading scikit_learn-1.6.1-cp313-cp313-win_amd64.whl (11.1 MB)\n",
      "   ---------------------------------------- 0.0/11.1 MB ? eta -:--:--\n",
      "   - -------------------------------------- 0.5/11.1 MB 3.9 MB/s eta 0:00:03\n",
      "   ----- ---------------------------------- 1.6/11.1 MB 4.1 MB/s eta 0:00:03\n",
      "   --------- ------------------------------ 2.6/11.1 MB 4.4 MB/s eta 0:00:02\n",
      "   ------------ --------------------------- 3.4/11.1 MB 4.4 MB/s eta 0:00:02\n",
      "   ---------------- ----------------------- 4.5/11.1 MB 4.5 MB/s eta 0:00:02\n",
      "   ------------------ --------------------- 5.2/11.1 MB 4.3 MB/s eta 0:00:02\n",
      "   --------------------- ------------------ 6.0/11.1 MB 4.3 MB/s eta 0:00:02\n",
      "   --------------------------- ------------ 7.6/11.1 MB 4.6 MB/s eta 0:00:01\n",
      "   -------------------------------- ------- 8.9/11.1 MB 4.8 MB/s eta 0:00:01\n",
      "   ------------------------------------ --- 10.2/11.1 MB 5.0 MB/s eta 0:00:01\n",
      "   ---------------------------------------- 11.1/11.1 MB 5.0 MB/s eta 0:00:00\n",
      "Downloading joblib-1.4.2-py3-none-any.whl (301 kB)\n",
      "Downloading threadpoolctl-3.5.0-py3-none-any.whl (18 kB)\n",
      "Installing collected packages: threadpoolctl, joblib, scikit-learn\n",
      "Successfully installed joblib-1.4.2 scikit-learn-1.6.1 threadpoolctl-3.5.0\n",
      "Note: you may need to restart the kernel to use updated packages.\n"
     ]
    },
    {
     "name": "stderr",
     "output_type": "stream",
     "text": [
      "\n",
      "[notice] A new release of pip is available: 24.3.1 -> 25.0\n",
      "[notice] To update, run: python.exe -m pip install --upgrade pip\n"
     ]
    }
   ],
   "source": [
    "%pip install scikit-learn"
   ]
  },
  {
   "cell_type": "code",
   "execution_count": 26,
   "metadata": {},
   "outputs": [
    {
     "data": {
      "text/plain": [
       "3528070204.3415904"
      ]
     },
     "execution_count": 26,
     "metadata": {},
     "output_type": "execute_result"
    }
   ],
   "source": [
    "from sklearn.linear_model import LinearRegression\n",
    "import pandas as pd\n",
    "from sklearn.preprocessing import LabelEncoder\n",
    "from sklearn.model_selection import train_test_split\n",
    "from sklearn.metrics import mean_squared_error\n",
    "\n",
    "# Load the data\n",
    "data_format = pd.read_csv(r\"D:\\AI & ML Learning\\Day-1\\Module_8\\Day-2\\ds_salaries.csv\")\n",
    "\n",
    "# Drop the unwanted columns for our Prediction\n",
    "data_format.drop(['Unnamed: 0', 'salary', 'salary_currency'], axis=1, inplace=True)\n",
    "\n",
    "\n",
    "# These are the column that are having letters so we need to convert that to numbers\n",
    "model = LabelEncoder()\n",
    "cols = ['experience_level', 'employment_type', 'job_title', 'employee_residence', 'company_location', 'company_size' ]\n",
    "\n",
    "# Encode the data\n",
    "for col in cols:\n",
    "    data_format[col] = model.fit_transform(data_format[col])\n",
    "\n",
    "X = data_format.drop('salary_in_usd', axis=1)\n",
    "y = data_format['salary_in_usd']\n",
    "\n",
    "x_train, x_test, y_train, y_test = train_test_split(X, y, test_size=0.2)\n",
    "\n",
    "model = LinearRegression()\n",
    "model.fit(x_train, y_train)\n",
    "\n",
    "x_train['prediction'] = model.predict(x_train)\n",
    "x_test['prediction'] = model.predict(x_test)\n",
    "\n",
    "x_train['actual'] = y_train\n",
    "x_test['actual'] = y_test\n",
    "\n",
    "mean_squared_error(x_train['actual'], x_train['prediction'])"
   ]
  },
  {
   "cell_type": "code",
   "execution_count": null,
   "metadata": {},
   "outputs": [],
   "source": []
  },
  {
   "cell_type": "code",
   "execution_count": null,
   "metadata": {},
   "outputs": [],
   "source": []
  },
  {
   "cell_type": "code",
   "execution_count": null,
   "metadata": {},
   "outputs": [],
   "source": []
  },
  {
   "cell_type": "code",
   "execution_count": null,
   "metadata": {},
   "outputs": [],
   "source": []
  },
  {
   "cell_type": "code",
   "execution_count": null,
   "metadata": {},
   "outputs": [],
   "source": []
  },
  {
   "cell_type": "code",
   "execution_count": null,
   "metadata": {},
   "outputs": [],
   "source": []
  },
  {
   "cell_type": "code",
   "execution_count": null,
   "metadata": {},
   "outputs": [],
   "source": []
  },
  {
   "cell_type": "code",
   "execution_count": null,
   "metadata": {},
   "outputs": [],
   "source": []
  },
  {
   "cell_type": "code",
   "execution_count": null,
   "metadata": {},
   "outputs": [],
   "source": []
  },
  {
   "cell_type": "code",
   "execution_count": null,
   "metadata": {},
   "outputs": [],
   "source": []
  }
 ],
 "metadata": {
  "kernelspec": {
   "display_name": "Python 3",
   "language": "python",
   "name": "python3"
  },
  "language_info": {
   "codemirror_mode": {
    "name": "ipython",
    "version": 3
   },
   "file_extension": ".py",
   "mimetype": "text/x-python",
   "name": "python",
   "nbconvert_exporter": "python",
   "pygments_lexer": "ipython3",
   "version": "3.13.1"
  }
 },
 "nbformat": 4,
 "nbformat_minor": 2
}
