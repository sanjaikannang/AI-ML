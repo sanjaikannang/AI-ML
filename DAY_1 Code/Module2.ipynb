{
 "cells": [
  {
   "cell_type": "code",
   "execution_count": 1,
   "id": "728dc36b-8f08-4742-b2ca-556a32f0fb41",
   "metadata": {},
   "outputs": [
    {
     "name": "stdout",
     "output_type": "stream",
     "text": [
      "my name is sanjai!\n"
     ]
    }
   ],
   "source": [
    "print(\"my name is sanjai!\")"
   ]
  },
  {
   "cell_type": "code",
   "execution_count": 3,
   "id": "a63b0dd7-898a-4fea-8322-dc76364fc72a",
   "metadata": {},
   "outputs": [
    {
     "name": "stdout",
     "output_type": "stream",
     "text": [
      "himy name is sanjai\n"
     ]
    }
   ],
   "source": [
    "print(\"hi\" + \"my name is sanjai\")"
   ]
  },
  {
   "cell_type": "code",
   "execution_count": 2,
   "id": "475cba8d-0ee3-4dde-9e9f-0753afd6f6bc",
   "metadata": {},
   "outputs": [
    {
     "name": "stdout",
     "output_type": "stream",
     "text": [
      "my name is sanjai kannan G, i am an software developer\n"
     ]
    }
   ],
   "source": [
    "my_introduction = \"my name is sanjai kannan G, i am an software developer \"\n",
    "print(my_introduction)"
   ]
  },
  {
   "cell_type": "code",
   "execution_count": 11,
   "id": "0bf66bb1",
   "metadata": {},
   "outputs": [
    {
     "name": "stdout",
     "output_type": "stream",
     "text": [
      "my name is sanjai kannan G, i am an software developer my name is sanjai kannan G, i am an software developer \n"
     ]
    }
   ],
   "source": [
    "my_introduction = \"my name is sanjai kannan G, i am an software developer \"\n",
    "print(my_introduction*2)"
   ]
  },
  {
   "cell_type": "code",
   "execution_count": 13,
   "id": "c4d3ae41",
   "metadata": {},
   "outputs": [
    {
     "name": "stdout",
     "output_type": "stream",
     "text": [
      "my name is sanjai kannan G, i am an software developer \n",
      "my name is sanjai kannan G, i am an software developer \n",
      "my name is sanjai kannan G, i am an software developer \n",
      "my name is sanjai kannan G, i am an software developer \n",
      "my name is sanjai kannan G, i am an software developer \n",
      "\n"
     ]
    }
   ],
   "source": [
    "my_introduction = \"my name is sanjai kannan G, i am an software developer \\n\"\n",
    "print(my_introduction*5)"
   ]
  }
 ],
 "metadata": {
  "kernelspec": {
   "display_name": "Python 3",
   "language": "python",
   "name": "python3"
  },
  "language_info": {
   "codemirror_mode": {
    "name": "ipython",
    "version": 3
   },
   "file_extension": ".py",
   "mimetype": "text/x-python",
   "name": "python",
   "nbconvert_exporter": "python",
   "pygments_lexer": "ipython3",
   "version": "3.13.1"
  }
 },
 "nbformat": 4,
 "nbformat_minor": 5
}
